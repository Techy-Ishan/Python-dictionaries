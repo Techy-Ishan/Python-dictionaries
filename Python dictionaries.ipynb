{
 "cells": [
  {
   "cell_type": "markdown",
   "id": "8b239549",
   "metadata": {},
   "source": [
    "# Python Concepts For Data Science: Dictionaries\n"
   ]
  },
  {
   "cell_type": "markdown",
   "id": "9f519d9b",
   "metadata": {},
   "source": [
    "## Python Dictionaries:"
   ]
  },
  {
   "cell_type": "markdown",
   "id": "7fc09a3e",
   "metadata": {},
   "source": [
    " Python dictionary is an unordered collection of items. Each item of a dictionary has a key/value pair. \n",
    "\n",
    "Each key is separated from its value by a colon (:), the items are separated by commas, and the whole thing is enclosed in curly braces. An empty dictionary without any items is written with just two curly braces, like this: {}.\n",
    "\n",
    "dict ={\n",
    "\n",
    "\"Name\": \"Any_name\",\n",
    "\n",
    "\"Age\": \"18\",\n",
    "\n",
    "}\n",
    "\n",
    "This is how the python dictionary looks. Here 'name' and \"age' are the keys while 'any_name' and '18' are their corresponding values in the dictionary named 'dict'."
   ]
  },
  {
   "cell_type": "markdown",
   "id": "450d7750",
   "metadata": {},
   "source": [
    "### Creating a dictionary:\n"
   ]
  },
  {
   "cell_type": "markdown",
   "id": "423e3808",
   "metadata": {},
   "source": [
    "In Python, a Dictionary can be created by placing a sequence of elements within curly {} braces, separated by ‘comma’. Dictionary holds a pair of values, one being the Key and the other corresponding pair element being its Key:value. \n"
   ]
  },
  {
   "cell_type": "code",
   "execution_count": 2,
   "id": "f82ae984",
   "metadata": {},
   "outputs": [
    {
     "name": "stdout",
     "output_type": "stream",
     "text": [
      "{'Name': 'Any_name', 'Age': '18'}\n"
     ]
    }
   ],
   "source": [
    "dict ={\n",
    "\n",
    "\"Name\": \"Any_name\",\n",
    "\n",
    "\"Age\": \"18\",\n",
    "\n",
    "}\n",
    "\n",
    "print(dict)"
   ]
  },
  {
   "cell_type": "markdown",
   "id": "1680c9be",
   "metadata": {},
   "source": [
    "### Accesing values in dictionary:"
   ]
  },
  {
   "cell_type": "markdown",
   "id": "65076f6f",
   "metadata": {},
   "source": [
    "To access dictionary elements, you can use the familiar square brackets along with the key to obtain its value. \n"
   ]
  },
  {
   "cell_type": "code",
   "execution_count": 3,
   "id": "b5076ff0",
   "metadata": {},
   "outputs": [
    {
     "name": "stdout",
     "output_type": "stream",
     "text": [
      "Any_name\n",
      "18\n",
      "Any_nameis18years old.\n"
     ]
    }
   ],
   "source": [
    "dict ={\n",
    "\n",
    "\"Name\": \"Any_name\",\n",
    "\n",
    "\"Age\": \"18\",\n",
    "\n",
    "}\n",
    "\n",
    "print(dict['Name'])\n",
    "\n",
    "print(dict['Age'])\n",
    "\n",
    "# printing both values\n",
    "\n",
    "print(dict['Name']+\"is\"+dict['Age']+\"years old.\")\n",
    "\n"
   ]
  },
  {
   "cell_type": "markdown",
   "id": "3808be13",
   "metadata": {},
   "source": [
    "## Adding,Updating ,Deleting dictionary elements:"
   ]
  },
  {
   "cell_type": "markdown",
   "id": "ea16db62",
   "metadata": {},
   "source": [
    "### Adding items:"
   ]
  },
  {
   "cell_type": "markdown",
   "id": "b4c4f50a",
   "metadata": {},
   "source": [
    "Adding an item to the dictionary is done by using a new index key and assigning a value to it:"
   ]
  },
  {
   "cell_type": "code",
   "execution_count": 4,
   "id": "98ec93ab",
   "metadata": {},
   "outputs": [
    {
     "name": "stdout",
     "output_type": "stream",
     "text": [
      "{'Name': 'Any_name', 'Age': '18', 'Address': 'your_add'}\n"
     ]
    }
   ],
   "source": [
    "dict ={\n",
    "\n",
    "\"Name\": \"Any_name\",\n",
    "\n",
    "\"Age\": \"18\",\n",
    "\n",
    "}\n",
    "\n",
    "dict['Address']=\"your_add\"\n",
    "\n",
    "print(dict)\n",
    "\n"
   ]
  },
  {
   "cell_type": "markdown",
   "id": "acebdf5a",
   "metadata": {},
   "source": [
    "### Updating items:"
   ]
  },
  {
   "cell_type": "code",
   "execution_count": 5,
   "id": "7896fb0c",
   "metadata": {},
   "outputs": [
    {
     "name": "stdout",
     "output_type": "stream",
     "text": [
      "{'Name': 'Any_name', 'Age': '20'}\n"
     ]
    }
   ],
   "source": [
    "dict ={\n",
    "\n",
    "\"Name\": \"Any_name\",\n",
    "\n",
    "\"Age\": \"18\",\n",
    "\n",
    "}\n",
    "\n",
    "dict['Age']=\"20\"\n",
    "\n",
    "print(dict)"
   ]
  },
  {
   "cell_type": "markdown",
   "id": "2052c281",
   "metadata": {},
   "source": [
    "The update() method will update the dictionary with the items from the given argument.\n",
    "\n",
    "The argument must be a dictionary, or an iterable object with key:value pairs.\n",
    "\n"
   ]
  },
  {
   "cell_type": "code",
   "execution_count": 6,
   "id": "45eaaf01",
   "metadata": {},
   "outputs": [
    {
     "name": "stdout",
     "output_type": "stream",
     "text": [
      "{'Name': 'Any_name', 'Age': 22}\n"
     ]
    }
   ],
   "source": [
    "dict ={\n",
    "\n",
    "\"Name\": \"Any_name\",\n",
    "\n",
    "\"Age\": \"18\",\n",
    "\n",
    "}\n",
    "\n",
    "dict.update({\"Age\": 22})\n",
    "\n",
    "print(dict)"
   ]
  },
  {
   "cell_type": "markdown",
   "id": "6343bed2",
   "metadata": {},
   "source": [
    "### Deleting items:\n",
    "The del keyword removes the item with the specified key name:"
   ]
  },
  {
   "cell_type": "code",
   "execution_count": 7,
   "id": "e27c421d",
   "metadata": {},
   "outputs": [
    {
     "name": "stdout",
     "output_type": "stream",
     "text": [
      "{'Age': '18'}\n"
     ]
    }
   ],
   "source": [
    "dict ={\n",
    "\n",
    "\"Name\": \"Any_name\",\n",
    "\n",
    "\"Age\": \"18\",\n",
    "\n",
    "}\n",
    "\n",
    "del dict['Name']\n",
    "\n",
    "print(dict)"
   ]
  },
  {
   "cell_type": "markdown",
   "id": "aeb5ea2e",
   "metadata": {},
   "source": [
    "We can also delete the entire dictionary using del keyword."
   ]
  },
  {
   "cell_type": "code",
   "execution_count": 8,
   "id": "406b04f0",
   "metadata": {},
   "outputs": [
    {
     "name": "stdout",
     "output_type": "stream",
     "text": [
      "<class 'dict'>\n"
     ]
    }
   ],
   "source": [
    "dict ={\n",
    "\n",
    "\"Name\": \"Any_name\",\n",
    "\n",
    "\"Age\": \"18\",\n",
    "\n",
    "}\n",
    "\n",
    "del dict\n",
    "\n",
    "print(dict)"
   ]
  },
  {
   "cell_type": "markdown",
   "id": "4d39e7cd",
   "metadata": {},
   "source": [
    "## Summerizing :"
   ]
  },
  {
   "cell_type": "code",
   "execution_count": 9,
   "id": "ac213089",
   "metadata": {},
   "outputs": [
    {
     "name": "stdout",
     "output_type": "stream",
     "text": [
      "{'Name': 'Any_name', 'Age': '18'}\n",
      "Any_name\n",
      "{'Name': 'Any_name', 'Age': '18', 'Address': 'your_add'}\n",
      "{'Name': 'Any_name', 'Age': 22, 'Address': 'your_add'}\n",
      "{'Age': 22, 'Address': 'your_add'}\n"
     ]
    }
   ],
   "source": [
    "#creating dictionary dict\n",
    "\n",
    "dict ={\n",
    "\n",
    "\"Name\": \"Any_name\",\n",
    "\n",
    "\"Age\": \"18\",\n",
    "\n",
    "}\n",
    "\n",
    "print(dict)\n",
    "\n",
    "\n",
    "#accessing values\n",
    "\n",
    "print(dict['Name'])\n",
    "\n",
    "\n",
    "#adding items\n",
    "\n",
    "dict['Address']=\"your_add\"\n",
    "\n",
    "print(dict)\n",
    "\n",
    "\n",
    "#updating items\n",
    "\n",
    "dict.update({\"Age\": 22})\n",
    "\n",
    "print(dict)\n",
    "\n",
    "\n",
    "#deleting items\n",
    "\n",
    "del dict['Name']\n",
    "\n",
    "print(dict)"
   ]
  },
  {
   "cell_type": "markdown",
   "id": "bd2ffd3f",
   "metadata": {},
   "source": [
    "## Iterating through dictionaries in python:\n",
    "we can loop through a dictionary by using a for loop.There are multiple ways to iterate over a dictionary in Python.\n",
    "<ul>\n",
    "<li>Iterate through all keys</li>\n",
    "\n",
    "<li>Iterate through all values</li>\n",
    "\n",
    "<li>Iterate through all key, value pairs</li>\n",
    "</ul>\n"
   ]
  },
  {
   "cell_type": "markdown",
   "id": "62400112",
   "metadata": {},
   "source": [
    "#### Iterate through all keys\n",
    "\n",
    "  Here we create a dictionary named firstand_lastname and iterate through all keys.\n",
    "  "
   ]
  },
  {
   "cell_type": "code",
   "execution_count": 11,
   "id": "381612b6",
   "metadata": {},
   "outputs": [
    {
     "name": "stdout",
     "output_type": "stream",
     "text": [
      "firstnames:\n",
      "john\n",
      "Jeff\n",
      "Suraj\n"
     ]
    }
   ],
   "source": [
    "firstand_lastname = {\n",
    "\n",
    "                     'john' : 'bista',\n",
    "\n",
    "                     'Jeff' : 'bezos',\n",
    "\n",
    "                     'Suraj' : 'raaj',\n",
    "\n",
    "                     }\n",
    "\n",
    "                      \n",
    "\n",
    "print('firstnames:')\n",
    "\n",
    "  # Iterating over keys\n",
    "\n",
    "for f_name in firstand_lastname   :\n",
    "\n",
    "    print(f_name)"
   ]
  },
  {
   "cell_type": "markdown",
   "id": "8cb36389",
   "metadata": {},
   "source": [
    "#### Iterate through all values:\n"
   ]
  },
  {
   "cell_type": "code",
   "execution_count": 12,
   "id": "093dd542",
   "metadata": {},
   "outputs": [
    {
     "name": "stdout",
     "output_type": "stream",
     "text": [
      "lastnames:\n",
      "bista\n",
      "bezos\n",
      "raaj\n",
      "charlie\n"
     ]
    }
   ],
   "source": [
    "firstand_lastname = {\n",
    "\n",
    "                     'john' : 'bista',\n",
    "\n",
    "                     'Jeff' : 'bezos',\n",
    "\n",
    "                     'Suraj' : 'raaj',\n",
    "\n",
    "                     'anthony' : 'charlie'\n",
    "\n",
    "                     }\n",
    "\n",
    "                      \n",
    "\n",
    "print('lastnames:')\n",
    "\n",
    "  \n",
    "\n",
    "# Iterating over values\n",
    "\n",
    "for  last_name in firstand_lastname.values():\n",
    "\n",
    "    print(last_name)"
   ]
  },
  {
   "cell_type": "markdown",
   "id": "0a234749",
   "metadata": {},
   "source": [
    "In this case the values may not be printed in the order they are stored."
   ]
  },
  {
   "cell_type": "markdown",
   "id": "2a9bbb54",
   "metadata": {},
   "source": [
    "### Iterate through all key, value pairs:"
   ]
  },
  {
   "cell_type": "code",
   "execution_count": 13,
   "id": "b2db8dfa",
   "metadata": {},
   "outputs": [
    {
     "name": "stdout",
     "output_type": "stream",
     "text": [
      "the  complete names are:\n",
      "john : bista\n",
      "Jeff : bezos\n",
      "Suraj : raaj\n",
      "anthony : charlie\n"
     ]
    }
   ],
   "source": [
    "#here in this example all the key values pairs are printed.\n",
    "\n",
    "\n",
    "\n",
    "firstand_lastname = {\n",
    "\n",
    "                     'john' : 'bista',\n",
    "\n",
    "                     'Jeff' : 'bezos',\n",
    "\n",
    "                     'Suraj' : 'raaj',\n",
    "\n",
    "                     'anthony' : 'charlie'\n",
    "\n",
    "                     }\n",
    "\n",
    "                    \n",
    "\n",
    "# Iterating over keys and values\n",
    "\n",
    "print(\"the  complete names are:\")\n",
    "\n",
    "\n",
    "for lname, last_name in firstand_lastname.items():\n",
    "\n",
    "    print(lname, \":\", last_name)\n",
    "\n"
   ]
  },
  {
   "cell_type": "code",
   "execution_count": null,
   "id": "22f84966",
   "metadata": {},
   "outputs": [],
   "source": []
  }
 ],
 "metadata": {
  "kernelspec": {
   "display_name": "Python 3 (ipykernel)",
   "language": "python",
   "name": "python3"
  },
  "language_info": {
   "codemirror_mode": {
    "name": "ipython",
    "version": 3
   },
   "file_extension": ".py",
   "mimetype": "text/x-python",
   "name": "python",
   "nbconvert_exporter": "python",
   "pygments_lexer": "ipython3",
   "version": "3.9.5"
  }
 },
 "nbformat": 4,
 "nbformat_minor": 5
}
